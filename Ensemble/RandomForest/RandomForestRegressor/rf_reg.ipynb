{
 "cells": [
  {
   "cell_type": "code",
   "execution_count": 1,
   "id": "7fbb741d",
   "metadata": {},
   "outputs": [],
   "source": [
    "import numpy as np\n",
    "import pandas as pd\n",
    "\n",
    "from sklearn.datasets import make_regression\n",
    "\n",
    "from RandomForestRegressor import MyForestReg"
   ]
  },
  {
   "cell_type": "code",
   "execution_count": 2,
   "id": "e225bb39",
   "metadata": {},
   "outputs": [],
   "source": [
    "X, y = make_regression(n_samples=1000, n_features=14, n_informative=10, noise=15, random_state=42)\n",
    "X = pd.DataFrame(X)\n",
    "y = pd.Series(y)\n",
    "X.columns = [f'col_{col}' for col in X.columns]"
   ]
  },
  {
   "cell_type": "code",
   "execution_count": 3,
   "id": "5d201b37",
   "metadata": {},
   "outputs": [
    {
     "data": {
      "text/html": [
       "<div>\n",
       "<style scoped>\n",
       "    .dataframe tbody tr th:only-of-type {\n",
       "        vertical-align: middle;\n",
       "    }\n",
       "\n",
       "    .dataframe tbody tr th {\n",
       "        vertical-align: top;\n",
       "    }\n",
       "\n",
       "    .dataframe thead th {\n",
       "        text-align: right;\n",
       "    }\n",
       "</style>\n",
       "<table border=\"1\" class=\"dataframe\">\n",
       "  <thead>\n",
       "    <tr style=\"text-align: right;\">\n",
       "      <th></th>\n",
       "      <th>col_0</th>\n",
       "      <th>col_1</th>\n",
       "      <th>col_2</th>\n",
       "      <th>col_3</th>\n",
       "      <th>col_4</th>\n",
       "      <th>col_5</th>\n",
       "      <th>col_6</th>\n",
       "      <th>col_7</th>\n",
       "      <th>col_8</th>\n",
       "      <th>col_9</th>\n",
       "      <th>col_10</th>\n",
       "      <th>col_11</th>\n",
       "      <th>col_12</th>\n",
       "      <th>col_13</th>\n",
       "    </tr>\n",
       "  </thead>\n",
       "  <tbody>\n",
       "    <tr>\n",
       "      <th>0</th>\n",
       "      <td>1.191261</td>\n",
       "      <td>-0.308960</td>\n",
       "      <td>0.675137</td>\n",
       "      <td>-1.460501</td>\n",
       "      <td>0.053059</td>\n",
       "      <td>-1.886129</td>\n",
       "      <td>2.710794</td>\n",
       "      <td>-1.716033</td>\n",
       "      <td>0.865290</td>\n",
       "      <td>0.138078</td>\n",
       "      <td>-0.063745</td>\n",
       "      <td>-2.104583</td>\n",
       "      <td>-0.476876</td>\n",
       "      <td>1.677116</td>\n",
       "    </tr>\n",
       "    <tr>\n",
       "      <th>1</th>\n",
       "      <td>1.071476</td>\n",
       "      <td>-1.424766</td>\n",
       "      <td>-1.109750</td>\n",
       "      <td>-0.457677</td>\n",
       "      <td>0.399997</td>\n",
       "      <td>1.587401</td>\n",
       "      <td>-1.547570</td>\n",
       "      <td>0.323247</td>\n",
       "      <td>0.165859</td>\n",
       "      <td>-0.302097</td>\n",
       "      <td>0.203944</td>\n",
       "      <td>-0.212452</td>\n",
       "      <td>0.836991</td>\n",
       "      <td>0.368498</td>\n",
       "    </tr>\n",
       "    <tr>\n",
       "      <th>2</th>\n",
       "      <td>-0.045929</td>\n",
       "      <td>1.868603</td>\n",
       "      <td>-0.016568</td>\n",
       "      <td>-0.484258</td>\n",
       "      <td>1.089905</td>\n",
       "      <td>-1.147160</td>\n",
       "      <td>0.590744</td>\n",
       "      <td>0.683325</td>\n",
       "      <td>-0.571184</td>\n",
       "      <td>-0.802199</td>\n",
       "      <td>-0.220114</td>\n",
       "      <td>0.034808</td>\n",
       "      <td>0.043829</td>\n",
       "      <td>0.955803</td>\n",
       "    </tr>\n",
       "    <tr>\n",
       "      <th>3</th>\n",
       "      <td>-1.487154</td>\n",
       "      <td>2.220322</td>\n",
       "      <td>0.718332</td>\n",
       "      <td>1.682888</td>\n",
       "      <td>-0.420986</td>\n",
       "      <td>-0.054746</td>\n",
       "      <td>1.900832</td>\n",
       "      <td>-0.101198</td>\n",
       "      <td>0.090042</td>\n",
       "      <td>-0.202924</td>\n",
       "      <td>0.340865</td>\n",
       "      <td>0.606237</td>\n",
       "      <td>-0.037008</td>\n",
       "      <td>-0.841048</td>\n",
       "    </tr>\n",
       "    <tr>\n",
       "      <th>4</th>\n",
       "      <td>0.344054</td>\n",
       "      <td>0.657763</td>\n",
       "      <td>0.348342</td>\n",
       "      <td>-0.417430</td>\n",
       "      <td>-0.589112</td>\n",
       "      <td>1.057814</td>\n",
       "      <td>-0.487705</td>\n",
       "      <td>-0.897830</td>\n",
       "      <td>-0.935596</td>\n",
       "      <td>-1.186993</td>\n",
       "      <td>1.074333</td>\n",
       "      <td>-0.069532</td>\n",
       "      <td>-0.177918</td>\n",
       "      <td>-0.912811</td>\n",
       "    </tr>\n",
       "  </tbody>\n",
       "</table>\n",
       "</div>"
      ],
      "text/plain": [
       "      col_0     col_1     col_2     col_3     col_4     col_5     col_6  \\\n",
       "0  1.191261 -0.308960  0.675137 -1.460501  0.053059 -1.886129  2.710794   \n",
       "1  1.071476 -1.424766 -1.109750 -0.457677  0.399997  1.587401 -1.547570   \n",
       "2 -0.045929  1.868603 -0.016568 -0.484258  1.089905 -1.147160  0.590744   \n",
       "3 -1.487154  2.220322  0.718332  1.682888 -0.420986 -0.054746  1.900832   \n",
       "4  0.344054  0.657763  0.348342 -0.417430 -0.589112  1.057814 -0.487705   \n",
       "\n",
       "      col_7     col_8     col_9    col_10    col_11    col_12    col_13  \n",
       "0 -1.716033  0.865290  0.138078 -0.063745 -2.104583 -0.476876  1.677116  \n",
       "1  0.323247  0.165859 -0.302097  0.203944 -0.212452  0.836991  0.368498  \n",
       "2  0.683325 -0.571184 -0.802199 -0.220114  0.034808  0.043829  0.955803  \n",
       "3 -0.101198  0.090042 -0.202924  0.340865  0.606237 -0.037008 -0.841048  \n",
       "4 -0.897830 -0.935596 -1.186993  1.074333 -0.069532 -0.177918 -0.912811  "
      ]
     },
     "metadata": {},
     "output_type": "display_data"
    },
    {
     "name": "stdout",
     "output_type": "stream",
     "text": [
      "(1000, 14)\n"
     ]
    }
   ],
   "source": [
    "display(X.head())\n",
    "print(X.shape)"
   ]
  },
  {
   "cell_type": "code",
   "execution_count": 4,
   "id": "8900d476",
   "metadata": {},
   "outputs": [
    {
     "data": {
      "text/plain": [
       "MyForestReg class: n_estimators=5, max_features=0.5, max_samples=0.5, max_depth=5, min_samples_split=2, max_leafs=20, bins=16, random_state=42"
      ]
     },
     "execution_count": 4,
     "metadata": {},
     "output_type": "execute_result"
    }
   ],
   "source": [
    "rf_reg = MyForestReg(5)\n",
    "rf_reg"
   ]
  },
  {
   "cell_type": "code",
   "execution_count": 5,
   "id": "ed14fe2f",
   "metadata": {},
   "outputs": [],
   "source": [
    "rf_reg.fit(X, y)"
   ]
  },
  {
   "cell_type": "code",
   "execution_count": 6,
   "id": "55b73d52",
   "metadata": {},
   "outputs": [
    {
     "data": {
      "text/plain": [
       "0       25.400502\n",
       "1       45.852945\n",
       "2      -23.576793\n",
       "3       22.257790\n",
       "4     -104.324015\n",
       "          ...    \n",
       "995      2.231004\n",
       "996    -51.008926\n",
       "997     57.361486\n",
       "998     60.793373\n",
       "999     79.795577\n",
       "Length: 1000, dtype: float64"
      ]
     },
     "execution_count": 6,
     "metadata": {},
     "output_type": "execute_result"
    }
   ],
   "source": [
    "rf_reg.predict(X)"
   ]
  }
 ],
 "metadata": {
  "kernelspec": {
   "display_name": "Python 3",
   "language": "python",
   "name": "python3"
  },
  "language_info": {
   "codemirror_mode": {
    "name": "ipython",
    "version": 3
   },
   "file_extension": ".py",
   "mimetype": "text/x-python",
   "name": "python",
   "nbconvert_exporter": "python",
   "pygments_lexer": "ipython3",
   "version": "3.12.3"
  }
 },
 "nbformat": 4,
 "nbformat_minor": 5
}
