{
 "cells": [
  {
   "cell_type": "code",
   "execution_count": 1,
   "metadata": {},
   "outputs": [],
   "source": [
    "import numpy as np\n",
    "import pandas as pd\n",
    "\n",
    "import random\n",
    "\n",
    "from sklearn.datasets import make_classification"
   ]
  },
  {
   "cell_type": "code",
   "execution_count": 2,
   "metadata": {},
   "outputs": [],
   "source": [
    "X, y = make_classification(n_samples=50, n_features=5, n_informative=2, random_state=42)\n",
    "X = pd.DataFrame(X)\n",
    "y = pd.Series(y)\n",
    "X.columns = [f'col_{col}' for col in X.columns]"
   ]
  },
  {
   "cell_type": "code",
   "execution_count": 3,
   "metadata": {},
   "outputs": [
    {
     "data": {
      "text/html": [
       "<div>\n",
       "<style scoped>\n",
       "    .dataframe tbody tr th:only-of-type {\n",
       "        vertical-align: middle;\n",
       "    }\n",
       "\n",
       "    .dataframe tbody tr th {\n",
       "        vertical-align: top;\n",
       "    }\n",
       "\n",
       "    .dataframe thead th {\n",
       "        text-align: right;\n",
       "    }\n",
       "</style>\n",
       "<table border=\"1\" class=\"dataframe\">\n",
       "  <thead>\n",
       "    <tr style=\"text-align: right;\">\n",
       "      <th></th>\n",
       "      <th>col_0</th>\n",
       "      <th>col_1</th>\n",
       "      <th>col_2</th>\n",
       "      <th>col_3</th>\n",
       "      <th>col_4</th>\n",
       "    </tr>\n",
       "  </thead>\n",
       "  <tbody>\n",
       "    <tr>\n",
       "      <th>0</th>\n",
       "      <td>-1.169215</td>\n",
       "      <td>1.144863</td>\n",
       "      <td>-0.974682</td>\n",
       "      <td>1.583077</td>\n",
       "      <td>-0.694705</td>\n",
       "    </tr>\n",
       "    <tr>\n",
       "      <th>1</th>\n",
       "      <td>-0.848883</td>\n",
       "      <td>1.100919</td>\n",
       "      <td>-0.820682</td>\n",
       "      <td>1.215244</td>\n",
       "      <td>-0.532098</td>\n",
       "    </tr>\n",
       "    <tr>\n",
       "      <th>2</th>\n",
       "      <td>-0.488470</td>\n",
       "      <td>0.782047</td>\n",
       "      <td>-1.191303</td>\n",
       "      <td>0.735572</td>\n",
       "      <td>-0.321453</td>\n",
       "    </tr>\n",
       "    <tr>\n",
       "      <th>3</th>\n",
       "      <td>-0.799602</td>\n",
       "      <td>-0.339412</td>\n",
       "      <td>-0.919424</td>\n",
       "      <td>0.808465</td>\n",
       "      <td>-0.359732</td>\n",
       "    </tr>\n",
       "    <tr>\n",
       "      <th>4</th>\n",
       "      <td>0.540444</td>\n",
       "      <td>-0.783316</td>\n",
       "      <td>-0.034712</td>\n",
       "      <td>-0.793821</td>\n",
       "      <td>0.347233</td>\n",
       "    </tr>\n",
       "  </tbody>\n",
       "</table>\n",
       "</div>"
      ],
      "text/plain": [
       "      col_0     col_1     col_2     col_3     col_4\n",
       "0 -1.169215  1.144863 -0.974682  1.583077 -0.694705\n",
       "1 -0.848883  1.100919 -0.820682  1.215244 -0.532098\n",
       "2 -0.488470  0.782047 -1.191303  0.735572 -0.321453\n",
       "3 -0.799602 -0.339412 -0.919424  0.808465 -0.359732\n",
       "4  0.540444 -0.783316 -0.034712 -0.793821  0.347233"
      ]
     },
     "metadata": {},
     "output_type": "display_data"
    },
    {
     "name": "stdout",
     "output_type": "stream",
     "text": [
      "(50, 5)\n"
     ]
    }
   ],
   "source": [
    "display(X.head())\n",
    "print(X.shape)"
   ]
  },
  {
   "cell_type": "code",
   "execution_count": 4,
   "metadata": {},
   "outputs": [
    {
     "data": {
      "text/plain": [
       "0    1\n",
       "1    1\n",
       "2    1\n",
       "3    1\n",
       "4    0\n",
       "dtype: int32"
      ]
     },
     "metadata": {},
     "output_type": "display_data"
    },
    {
     "name": "stdout",
     "output_type": "stream",
     "text": [
      "(50,)\n"
     ]
    }
   ],
   "source": [
    "display(y.head())\n",
    "print(y.shape)"
   ]
  },
  {
   "cell_type": "code",
   "execution_count": 5,
   "metadata": {},
   "outputs": [],
   "source": [
    "class MyKNNClf():\n",
    "\n",
    "    def __init__(self, k = 3, metric = 'euclidean'):\n",
    "        self.k = k\n",
    "        self.metric = metric\n",
    "        self.X, self.y = None, None\n",
    "        self.train_size = None\n",
    "\n",
    "    \n",
    "    def __repr__(self):\n",
    "        return f'MyKNNClf class: k={self.k}'\n",
    "    \n",
    "\n",
    "    def fit(self, X: pd.DataFrame, y: pd.Series):\n",
    "        self.X, self.y = X.copy().reset_index(drop=True), y.copy().reset_index(drop=True)\n",
    "        self.train_size = self.X.shape\n",
    "\n",
    "\n",
    "    def predict_proba(self, X: pd.DataFrame):\n",
    "        X = X.copy().reset_index(drop=True)\n",
    "        res = []\n",
    "        for i in range(X.shape[0]):\n",
    "            var = pd.Series(np.sum((self.X - X.values[i])**2, axis=1)**(1/2)).sort_values().index[:self.k]\n",
    "            res.append(np.mean([self.y[i] for i in var]))\n",
    "        return pd.Series(res)\n",
    "    \n",
    "    \n",
    "    def predict(self, X):\n",
    "        return self.predict_proba(X).apply(lambda x: 1 if x >= 0.5 else 0)"
   ]
  },
  {
   "cell_type": "code",
   "execution_count": 6,
   "metadata": {},
   "outputs": [
    {
     "name": "stdout",
     "output_type": "stream",
     "text": [
      "MyKNNClf class: k=3\n"
     ]
    }
   ],
   "source": [
    "knn = MyKNNClf(k = 3, metric= 'cosine')\n",
    "print(knn)"
   ]
  },
  {
   "cell_type": "code",
   "execution_count": 7,
   "metadata": {},
   "outputs": [],
   "source": [
    "knn.fit(X, y)"
   ]
  },
  {
   "cell_type": "code",
   "execution_count": 8,
   "metadata": {},
   "outputs": [
    {
     "data": {
      "text/plain": [
       "0    1.000000\n",
       "1    1.000000\n",
       "2    1.000000\n",
       "3    0.666667\n",
       "4    0.000000\n",
       "dtype: float64"
      ]
     },
     "execution_count": 8,
     "metadata": {},
     "output_type": "execute_result"
    }
   ],
   "source": [
    "knn.predict_proba(X).head()"
   ]
  }
 ],
 "metadata": {
  "kernelspec": {
   "display_name": "Python 3",
   "language": "python",
   "name": "python3"
  },
  "language_info": {
   "codemirror_mode": {
    "name": "ipython",
    "version": 3
   },
   "file_extension": ".py",
   "mimetype": "text/x-python",
   "name": "python",
   "nbconvert_exporter": "python",
   "pygments_lexer": "ipython3",
   "version": "3.12.3"
  }
 },
 "nbformat": 4,
 "nbformat_minor": 2
}
