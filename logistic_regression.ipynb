{
 "cells": [
  {
   "cell_type": "code",
   "execution_count": 262,
   "metadata": {},
   "outputs": [],
   "source": [
    "import numpy as np\n",
    "import pandas as pd\n",
    "\n",
    "import random\n",
    "\n",
    "from sklearn.datasets import make_classification"
   ]
  },
  {
   "cell_type": "code",
   "execution_count": 263,
   "metadata": {},
   "outputs": [],
   "source": [
    "X, y = make_classification(n_samples=1000, n_features=14, n_informative=10, random_state=42)\n",
    "X = pd.DataFrame(X)\n",
    "y = pd.Series(y)\n",
    "X.columns = [f'col_{col}' for col in X.columns]"
   ]
  },
  {
   "cell_type": "code",
   "execution_count": 264,
   "metadata": {},
   "outputs": [
    {
     "data": {
      "text/html": [
       "<div>\n",
       "<style scoped>\n",
       "    .dataframe tbody tr th:only-of-type {\n",
       "        vertical-align: middle;\n",
       "    }\n",
       "\n",
       "    .dataframe tbody tr th {\n",
       "        vertical-align: top;\n",
       "    }\n",
       "\n",
       "    .dataframe thead th {\n",
       "        text-align: right;\n",
       "    }\n",
       "</style>\n",
       "<table border=\"1\" class=\"dataframe\">\n",
       "  <thead>\n",
       "    <tr style=\"text-align: right;\">\n",
       "      <th></th>\n",
       "      <th>col_0</th>\n",
       "      <th>col_1</th>\n",
       "      <th>col_2</th>\n",
       "      <th>col_3</th>\n",
       "      <th>col_4</th>\n",
       "      <th>col_5</th>\n",
       "      <th>col_6</th>\n",
       "      <th>col_7</th>\n",
       "      <th>col_8</th>\n",
       "      <th>col_9</th>\n",
       "      <th>col_10</th>\n",
       "      <th>col_11</th>\n",
       "      <th>col_12</th>\n",
       "      <th>col_13</th>\n",
       "    </tr>\n",
       "  </thead>\n",
       "  <tbody>\n",
       "    <tr>\n",
       "      <th>0</th>\n",
       "      <td>0.212170</td>\n",
       "      <td>0.588157</td>\n",
       "      <td>0.373931</td>\n",
       "      <td>-1.213137</td>\n",
       "      <td>-0.431857</td>\n",
       "      <td>-1.805413</td>\n",
       "      <td>0.374652</td>\n",
       "      <td>-0.328778</td>\n",
       "      <td>1.662872</td>\n",
       "      <td>0.682909</td>\n",
       "      <td>-0.635783</td>\n",
       "      <td>-0.096290</td>\n",
       "      <td>-0.706476</td>\n",
       "      <td>1.475155</td>\n",
       "    </tr>\n",
       "    <tr>\n",
       "      <th>1</th>\n",
       "      <td>-2.136309</td>\n",
       "      <td>-0.340340</td>\n",
       "      <td>-1.518135</td>\n",
       "      <td>2.791709</td>\n",
       "      <td>-0.348785</td>\n",
       "      <td>-0.697299</td>\n",
       "      <td>-3.616860</td>\n",
       "      <td>-0.644757</td>\n",
       "      <td>-3.150791</td>\n",
       "      <td>0.153453</td>\n",
       "      <td>-1.975852</td>\n",
       "      <td>1.927038</td>\n",
       "      <td>-0.225723</td>\n",
       "      <td>1.335919</td>\n",
       "    </tr>\n",
       "    <tr>\n",
       "      <th>2</th>\n",
       "      <td>-2.995246</td>\n",
       "      <td>0.418912</td>\n",
       "      <td>-1.147293</td>\n",
       "      <td>4.705204</td>\n",
       "      <td>0.109306</td>\n",
       "      <td>-0.134241</td>\n",
       "      <td>0.297226</td>\n",
       "      <td>2.162918</td>\n",
       "      <td>-6.801806</td>\n",
       "      <td>1.573732</td>\n",
       "      <td>0.234367</td>\n",
       "      <td>-0.348181</td>\n",
       "      <td>-3.033989</td>\n",
       "      <td>-2.326364</td>\n",
       "    </tr>\n",
       "    <tr>\n",
       "      <th>3</th>\n",
       "      <td>-4.434309</td>\n",
       "      <td>1.959684</td>\n",
       "      <td>0.313601</td>\n",
       "      <td>0.497666</td>\n",
       "      <td>0.864826</td>\n",
       "      <td>2.565846</td>\n",
       "      <td>-1.654235</td>\n",
       "      <td>-1.603219</td>\n",
       "      <td>1.411960</td>\n",
       "      <td>-0.621943</td>\n",
       "      <td>-2.532930</td>\n",
       "      <td>-0.387911</td>\n",
       "      <td>0.313242</td>\n",
       "      <td>4.148565</td>\n",
       "    </tr>\n",
       "    <tr>\n",
       "      <th>4</th>\n",
       "      <td>-6.564804</td>\n",
       "      <td>0.302972</td>\n",
       "      <td>0.394640</td>\n",
       "      <td>1.189341</td>\n",
       "      <td>-2.472628</td>\n",
       "      <td>4.819816</td>\n",
       "      <td>-1.126806</td>\n",
       "      <td>-1.453735</td>\n",
       "      <td>-2.691496</td>\n",
       "      <td>-0.259630</td>\n",
       "      <td>-1.587911</td>\n",
       "      <td>-0.205920</td>\n",
       "      <td>-0.589160</td>\n",
       "      <td>0.759591</td>\n",
       "    </tr>\n",
       "  </tbody>\n",
       "</table>\n",
       "</div>"
      ],
      "text/plain": [
       "      col_0     col_1     col_2     col_3     col_4     col_5     col_6  \\\n",
       "0  0.212170  0.588157  0.373931 -1.213137 -0.431857 -1.805413  0.374652   \n",
       "1 -2.136309 -0.340340 -1.518135  2.791709 -0.348785 -0.697299 -3.616860   \n",
       "2 -2.995246  0.418912 -1.147293  4.705204  0.109306 -0.134241  0.297226   \n",
       "3 -4.434309  1.959684  0.313601  0.497666  0.864826  2.565846 -1.654235   \n",
       "4 -6.564804  0.302972  0.394640  1.189341 -2.472628  4.819816 -1.126806   \n",
       "\n",
       "      col_7     col_8     col_9    col_10    col_11    col_12    col_13  \n",
       "0 -0.328778  1.662872  0.682909 -0.635783 -0.096290 -0.706476  1.475155  \n",
       "1 -0.644757 -3.150791  0.153453 -1.975852  1.927038 -0.225723  1.335919  \n",
       "2  2.162918 -6.801806  1.573732  0.234367 -0.348181 -3.033989 -2.326364  \n",
       "3 -1.603219  1.411960 -0.621943 -2.532930 -0.387911  0.313242  4.148565  \n",
       "4 -1.453735 -2.691496 -0.259630 -1.587911 -0.205920 -0.589160  0.759591  "
      ]
     },
     "metadata": {},
     "output_type": "display_data"
    },
    {
     "name": "stdout",
     "output_type": "stream",
     "text": [
      "(1000, 14)\n"
     ]
    }
   ],
   "source": [
    "display(X.head())\n",
    "print(X.shape)"
   ]
  },
  {
   "cell_type": "code",
   "execution_count": 265,
   "metadata": {},
   "outputs": [
    {
     "data": {
      "text/plain": [
       "0    0\n",
       "1    0\n",
       "2    0\n",
       "3    1\n",
       "4    1\n",
       "dtype: int32"
      ]
     },
     "metadata": {},
     "output_type": "display_data"
    },
    {
     "name": "stdout",
     "output_type": "stream",
     "text": [
      "(1000,)\n"
     ]
    }
   ],
   "source": [
    "display(y.head())\n",
    "print(y.shape)"
   ]
  },
  {
   "cell_type": "code",
   "execution_count": 273,
   "metadata": {},
   "outputs": [],
   "source": [
    "class MyLogReg():\n",
    "\n",
    "    def __init__(self, n_iter = 100, learning_rate = 0.01, metric = None):\n",
    "        self.n_iter = n_iter\n",
    "        self.learning_rate = learning_rate\n",
    "        self.metric = metric\n",
    "        self.weights = None\n",
    "\n",
    "\n",
    "    def __repr__(self) -> str:\n",
    "        return f'MyLogReg class: n_iter={self.n_iter}, learning_rate={self.learning_rate}'\n",
    "    \n",
    "\n",
    "    def fit(self, X: pd.DataFrame, y: pd.Series, verbose: int = False):\n",
    "        X=X.copy()\n",
    "        X.reset_index(inplace=True, drop=True)\n",
    "        X.insert(loc=0, column='x0', value=1)\n",
    "        self.weights = np.ones(X.shape[1])\n",
    "\n",
    "        for iter in range(1, self.n_iter+1):\n",
    "            pred = self.sigmoid(np.dot(X, self.weights))\n",
    "            grad = np.dot((pred - y), X)/len(y)\n",
    "            self.weights -= grad*self.learning_rate\n",
    "\n",
    "            if verbose:\n",
    "                \n",
    "                if iter == 1:\n",
    "                    pred = self.sigmoid(np.dot(X, np.ones(X.shape[1])))\n",
    "                    loss = -np.mean(y*np.log(pred) + (1-y)*np.log(1-pred))\n",
    "                    res = f'start | loss: {loss}'\n",
    "                    print_flag = True\n",
    "\n",
    "                if iter%verbose==0:\n",
    "                    pred = self.sigmoid(np.dot(X, self.weights))\n",
    "                    loss = -np.mean(y*np.log(pred+1e-15) + (1-y)*np.log(1-pred+1e-15))\n",
    "                    res = f'{iter} | loss: {loss}'\n",
    "                    print_flag = True\n",
    "\n",
    "                if self.metric and print_flag:\n",
    "                    metric_val = self.metric_calc(pred, y)\n",
    "                    res += f' | {self.metric}: {metric_val}'\n",
    "\n",
    "                if print_flag:\n",
    "                    print(res)\n",
    "                    print_flag = False\n",
    "\n",
    "    \n",
    "    def predict_proba(self, X:pd.DataFrame):\n",
    "        X = X.copy()\n",
    "        X.insert(loc=0, column='x0', value=1)\n",
    "        return pd.Series(self.sigmoid(np.dot(X, self.weights)))\n",
    "    \n",
    "\n",
    "    def predict(self, X:pd.DataFrame):\n",
    "        pred = self.predict_proba(X)\n",
    "        return pred.apply(lambda x: 1 if x>0.5 else 0)\n",
    "    \n",
    "\n",
    "    def metric_calc(self, pred: pd.Series, y: pd.Series):\n",
    "        if self.metric != 'roc_auc':\n",
    "            pred = pd.Series(pred).apply(lambda x: 1 if x>0.5 else 0)\n",
    "            TP, TN, FP, FN = 0, 0, 0, 0\n",
    "            for i in zip(y, pred):\n",
    "                if i[0]==1 and i[1]==1:\n",
    "                    TP+=1\n",
    "                elif i[0]==0 and i[1]==0:\n",
    "                    TN+=1\n",
    "                elif i[0]==0 and i[1]==1:\n",
    "                    FP+=1\n",
    "                else:\n",
    "                    FN+=1\n",
    "\n",
    "        if self.metric == 'accuracy':\n",
    "            return (TP+TN)/(TP+TN+FP+FN)\n",
    "        if self.metric == 'precision':\n",
    "            return TP/(TP+FP+1e-15)\n",
    "        if self.metric == 'recall':\n",
    "            return TP/(TP+FN+1e-15)\n",
    "        if self.metric == 'f1':\n",
    "            self.metric = 'precision'\n",
    "            pr = self.metric_calc(pred, y)\n",
    "            self.metric = 'recall'\n",
    "            r =  self.metric_calc(pred, y)\n",
    "            self.metric = 'f1'\n",
    "            return (2*pr*r)/(pr+r+1e-15)\n",
    "        if self.metric == 'roc_auc':\n",
    "            zippo = sorted(zip(pred, y), reverse=True)\n",
    "            pred, y = zip(*zippo)\n",
    "            total = 0\n",
    "            for i in range(len(y)):\n",
    "                if y[i]==0:\n",
    "                    count = sum(y[:i])\n",
    "                    for j in pred[:i][::-1]:\n",
    "                        if pred[i] == j:\n",
    "                            count-= 0.5\n",
    "                        if j>y[i]:\n",
    "                            break\n",
    "                    total+=count\n",
    "            P, N = sum(y), len(y) - sum(y)\n",
    "            return total/(P*N)\n",
    "\n",
    "\n",
    "    def sigmoid(self, value):\n",
    "        return 1/(1+np.exp(-value))\n",
    "    \n",
    "\n",
    "    def get_coef(self):\n",
    "        return self.weights[1:]\n",
    "    \n",
    "\n",
    "    def get_best_score(self):\n",
    "        return self.metric_calc(self.predict_proba(X), y)"
   ]
  },
  {
   "cell_type": "code",
   "execution_count": 274,
   "metadata": {},
   "outputs": [
    {
     "name": "stdout",
     "output_type": "stream",
     "text": [
      "MyLogReg class: n_iter=50, learning_rate=0.1\n"
     ]
    }
   ],
   "source": [
    "log_reg = MyLogReg(50, 0.1, 'roc_auc')\n",
    "print(log_reg)"
   ]
  },
  {
   "cell_type": "code",
   "execution_count": 275,
   "metadata": {},
   "outputs": [
    {
     "name": "stdout",
     "output_type": "stream",
     "text": [
      "start | loss: 3.6742056254341415 | roc_auc: 0.5326141304565218\n",
      "10 | loss: 1.7627744144564494 | roc_auc: 0.6219904879619519\n",
      "20 | loss: 1.1191187560143865 | roc_auc: 0.729254917019668\n",
      "30 | loss: 0.8058902605465909 | roc_auc: 0.8050832203328814\n",
      "40 | loss: 0.6428121701954602 | roc_auc: 0.8475193900775603\n",
      "50 | loss: 0.5538400820040549 | roc_auc: 0.8720714882859532\n"
     ]
    }
   ],
   "source": [
    "log_reg.fit(X, y, verbose=10)"
   ]
  },
  {
   "cell_type": "code",
   "execution_count": 276,
   "metadata": {},
   "outputs": [
    {
     "data": {
      "text/plain": [
       "0.33304183715915026"
      ]
     },
     "execution_count": 276,
     "metadata": {},
     "output_type": "execute_result"
    }
   ],
   "source": [
    "np.mean(log_reg.get_coef())"
   ]
  },
  {
   "cell_type": "code",
   "execution_count": 277,
   "metadata": {},
   "outputs": [
    {
     "data": {
      "text/plain": [
       "0      1\n",
       "1      1\n",
       "2      0\n",
       "3      1\n",
       "4      1\n",
       "      ..\n",
       "995    0\n",
       "996    1\n",
       "997    0\n",
       "998    0\n",
       "999    1\n",
       "Length: 1000, dtype: int64"
      ]
     },
     "execution_count": 277,
     "metadata": {},
     "output_type": "execute_result"
    }
   ],
   "source": [
    "log_reg.predict(X)"
   ]
  },
  {
   "cell_type": "code",
   "execution_count": 278,
   "metadata": {},
   "outputs": [
    {
     "data": {
      "text/plain": [
       "0.8720714882859532"
      ]
     },
     "execution_count": 278,
     "metadata": {},
     "output_type": "execute_result"
    }
   ],
   "source": [
    "log_reg.get_best_score()"
   ]
  }
 ],
 "metadata": {
  "kernelspec": {
   "display_name": "Python 3",
   "language": "python",
   "name": "python3"
  },
  "language_info": {
   "codemirror_mode": {
    "name": "ipython",
    "version": 3
   },
   "file_extension": ".py",
   "mimetype": "text/x-python",
   "name": "python",
   "nbconvert_exporter": "python",
   "pygments_lexer": "ipython3",
   "version": "3.12.3"
  }
 },
 "nbformat": 4,
 "nbformat_minor": 2
}
