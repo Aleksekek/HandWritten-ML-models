{
 "cells": [
  {
   "cell_type": "code",
   "execution_count": 1,
   "metadata": {},
   "outputs": [],
   "source": [
    "import numpy as np\n",
    "import pandas as pd\n",
    "\n",
    "import random\n",
    "\n",
    "from sklearn.datasets import make_regression"
   ]
  },
  {
   "cell_type": "code",
   "execution_count": 2,
   "metadata": {},
   "outputs": [],
   "source": [
    "X, y = make_regression(n_samples=1000, n_features=14, n_informative=10, noise=15, random_state=42)\n",
    "X = pd.DataFrame(X)\n",
    "y = pd.Series(y)\n",
    "X.columns = [f'col_{col}' for col in X.columns]"
   ]
  },
  {
   "cell_type": "code",
   "execution_count": 3,
   "metadata": {},
   "outputs": [
    {
     "data": {
      "text/html": [
       "<div>\n",
       "<style scoped>\n",
       "    .dataframe tbody tr th:only-of-type {\n",
       "        vertical-align: middle;\n",
       "    }\n",
       "\n",
       "    .dataframe tbody tr th {\n",
       "        vertical-align: top;\n",
       "    }\n",
       "\n",
       "    .dataframe thead th {\n",
       "        text-align: right;\n",
       "    }\n",
       "</style>\n",
       "<table border=\"1\" class=\"dataframe\">\n",
       "  <thead>\n",
       "    <tr style=\"text-align: right;\">\n",
       "      <th></th>\n",
       "      <th>col_0</th>\n",
       "      <th>col_1</th>\n",
       "      <th>col_2</th>\n",
       "      <th>col_3</th>\n",
       "      <th>col_4</th>\n",
       "      <th>col_5</th>\n",
       "      <th>col_6</th>\n",
       "      <th>col_7</th>\n",
       "      <th>col_8</th>\n",
       "      <th>col_9</th>\n",
       "      <th>col_10</th>\n",
       "      <th>col_11</th>\n",
       "      <th>col_12</th>\n",
       "      <th>col_13</th>\n",
       "    </tr>\n",
       "  </thead>\n",
       "  <tbody>\n",
       "    <tr>\n",
       "      <th>0</th>\n",
       "      <td>1.191261</td>\n",
       "      <td>-0.308960</td>\n",
       "      <td>0.675137</td>\n",
       "      <td>-1.460501</td>\n",
       "      <td>0.053059</td>\n",
       "      <td>-1.886129</td>\n",
       "      <td>2.710794</td>\n",
       "      <td>-1.716033</td>\n",
       "      <td>0.865290</td>\n",
       "      <td>0.138078</td>\n",
       "      <td>-0.063745</td>\n",
       "      <td>-2.104583</td>\n",
       "      <td>-0.476876</td>\n",
       "      <td>1.677116</td>\n",
       "    </tr>\n",
       "    <tr>\n",
       "      <th>1</th>\n",
       "      <td>1.071476</td>\n",
       "      <td>-1.424766</td>\n",
       "      <td>-1.109750</td>\n",
       "      <td>-0.457677</td>\n",
       "      <td>0.399997</td>\n",
       "      <td>1.587401</td>\n",
       "      <td>-1.547570</td>\n",
       "      <td>0.323247</td>\n",
       "      <td>0.165859</td>\n",
       "      <td>-0.302097</td>\n",
       "      <td>0.203944</td>\n",
       "      <td>-0.212452</td>\n",
       "      <td>0.836991</td>\n",
       "      <td>0.368498</td>\n",
       "    </tr>\n",
       "    <tr>\n",
       "      <th>2</th>\n",
       "      <td>-0.045929</td>\n",
       "      <td>1.868603</td>\n",
       "      <td>-0.016568</td>\n",
       "      <td>-0.484258</td>\n",
       "      <td>1.089905</td>\n",
       "      <td>-1.147160</td>\n",
       "      <td>0.590744</td>\n",
       "      <td>0.683325</td>\n",
       "      <td>-0.571184</td>\n",
       "      <td>-0.802199</td>\n",
       "      <td>-0.220114</td>\n",
       "      <td>0.034808</td>\n",
       "      <td>0.043829</td>\n",
       "      <td>0.955803</td>\n",
       "    </tr>\n",
       "    <tr>\n",
       "      <th>3</th>\n",
       "      <td>-1.487154</td>\n",
       "      <td>2.220322</td>\n",
       "      <td>0.718332</td>\n",
       "      <td>1.682888</td>\n",
       "      <td>-0.420986</td>\n",
       "      <td>-0.054746</td>\n",
       "      <td>1.900832</td>\n",
       "      <td>-0.101198</td>\n",
       "      <td>0.090042</td>\n",
       "      <td>-0.202924</td>\n",
       "      <td>0.340865</td>\n",
       "      <td>0.606237</td>\n",
       "      <td>-0.037008</td>\n",
       "      <td>-0.841048</td>\n",
       "    </tr>\n",
       "    <tr>\n",
       "      <th>4</th>\n",
       "      <td>0.344054</td>\n",
       "      <td>0.657763</td>\n",
       "      <td>0.348342</td>\n",
       "      <td>-0.417430</td>\n",
       "      <td>-0.589112</td>\n",
       "      <td>1.057814</td>\n",
       "      <td>-0.487705</td>\n",
       "      <td>-0.897830</td>\n",
       "      <td>-0.935596</td>\n",
       "      <td>-1.186993</td>\n",
       "      <td>1.074333</td>\n",
       "      <td>-0.069532</td>\n",
       "      <td>-0.177918</td>\n",
       "      <td>-0.912811</td>\n",
       "    </tr>\n",
       "  </tbody>\n",
       "</table>\n",
       "</div>"
      ],
      "text/plain": [
       "      col_0     col_1     col_2     col_3     col_4     col_5     col_6  \\\n",
       "0  1.191261 -0.308960  0.675137 -1.460501  0.053059 -1.886129  2.710794   \n",
       "1  1.071476 -1.424766 -1.109750 -0.457677  0.399997  1.587401 -1.547570   \n",
       "2 -0.045929  1.868603 -0.016568 -0.484258  1.089905 -1.147160  0.590744   \n",
       "3 -1.487154  2.220322  0.718332  1.682888 -0.420986 -0.054746  1.900832   \n",
       "4  0.344054  0.657763  0.348342 -0.417430 -0.589112  1.057814 -0.487705   \n",
       "\n",
       "      col_7     col_8     col_9    col_10    col_11    col_12    col_13  \n",
       "0 -1.716033  0.865290  0.138078 -0.063745 -2.104583 -0.476876  1.677116  \n",
       "1  0.323247  0.165859 -0.302097  0.203944 -0.212452  0.836991  0.368498  \n",
       "2  0.683325 -0.571184 -0.802199 -0.220114  0.034808  0.043829  0.955803  \n",
       "3 -0.101198  0.090042 -0.202924  0.340865  0.606237 -0.037008 -0.841048  \n",
       "4 -0.897830 -0.935596 -1.186993  1.074333 -0.069532 -0.177918 -0.912811  "
      ]
     },
     "metadata": {},
     "output_type": "display_data"
    },
    {
     "name": "stdout",
     "output_type": "stream",
     "text": [
      "(1000, 14)\n"
     ]
    }
   ],
   "source": [
    "display(X.head())\n",
    "print(X.shape)"
   ]
  },
  {
   "cell_type": "code",
   "execution_count": 4,
   "metadata": {},
   "outputs": [
    {
     "data": {
      "text/plain": [
       "0    -48.005272\n",
       "1    145.801614\n",
       "2    -49.114775\n",
       "3     24.902238\n",
       "4   -152.611643\n",
       "dtype: float64"
      ]
     },
     "metadata": {},
     "output_type": "display_data"
    },
    {
     "name": "stdout",
     "output_type": "stream",
     "text": [
      "(1000,)\n"
     ]
    }
   ],
   "source": [
    "display(y.head())\n",
    "print(y.shape)"
   ]
  },
  {
   "cell_type": "code",
   "execution_count": 5,
   "metadata": {},
   "outputs": [],
   "source": [
    "class MyLineReg():\n",
    "\n",
    "    def __init__(self, n_iter = 100, learning_rate = 0.1, metric = None, reg = None, l1_coef = 0, l2_coef = 0, sgd_sample = None, random_state = 42):\n",
    "        self.n_iter = n_iter\n",
    "        self.learning_rate = learning_rate\n",
    "        self.metric = metric\n",
    "        self.reg = reg\n",
    "        self.l1_coef = l1_coef\n",
    "        self.l2_coef = l2_coef\n",
    "        self.sgd_sample = sgd_sample\n",
    "        random.seed(random_state)\n",
    "        self.weights = None\n",
    "\n",
    "\n",
    "    def __repr__(self):\n",
    "        return f'MyLineReg: n_iter={self.n_iter}, learning_rate={self.learning_rate}'\n",
    "\n",
    "\n",
    "    def fit(self, X: pd.DataFrame, y: pd.Series, verbose: int = False):\n",
    "        X = X.copy()\n",
    "        X.reset_index(inplace=True, drop=True)\n",
    "        X.insert(loc=0, column='x0', value=1)\n",
    "        self.weights = np.ones(X.shape[1])\n",
    "\n",
    "        for iter in range(1, self.n_iter+1):\n",
    "\n",
    "            if self.sgd_sample:\n",
    "                if 0<self.sgd_sample<1:\n",
    "                    sgd = round(self.sgd_sample * X.shape[0])\n",
    "                else:\n",
    "                    sgd = self.sgd_sample\n",
    "                sample_rows_idx = random.sample(range(X.shape[0]), sgd)\n",
    "                X_batch, y_batch = X.iloc[sample_rows_idx], y.iloc[sample_rows_idx]\n",
    "            else:\n",
    "                X_batch, y_batch = X, y\n",
    "\n",
    "            pred = np.dot(X_batch, self.weights)\n",
    "            grad = 2*(np.dot((pred-y_batch), X_batch)/len(y_batch))\n",
    "\n",
    "            if self.reg:\n",
    "                if self.reg == 'l1':\n",
    "                    grad += self.l1_coef * np.sign(self.weights)\n",
    "                if self.reg == 'l2':\n",
    "                    grad += self.l2_coef * 2 * self.weights\n",
    "                if self.reg == 'elasticnet':\n",
    "                    grad += self.l1_coef * np.sign(self.weights) + self.l2_coef * 2 * self.weights\n",
    "\n",
    "            if callable(self.learning_rate):\n",
    "                lr = self.learning_rate(iter)\n",
    "            else:\n",
    "                lr = self.learning_rate\n",
    "\n",
    "            self.weights -= grad*lr\n",
    "\n",
    "            if verbose:\n",
    "\n",
    "                if self.reg:\n",
    "                    if self.reg == 'l1':\n",
    "                        reg = self.l1_coef * np.sum(np.abs(self.weights))\n",
    "                    if self.reg == 'l2':\n",
    "                        reg = self.l2_coef * np.sum((self.weights)**2)\n",
    "                    if self.reg == 'elasticnet':\n",
    "                        reg = self.l1_coef * np.sum(np.abs(self.weights))\n",
    "                        reg += self.l2_coef * np.sum((self.weights)**2)\n",
    "                else:\n",
    "                    reg = 0\n",
    "\n",
    "                if iter==1:\n",
    "                    pred = np.dot(X, np.ones(X.shape[1]))\n",
    "                    loss = np.mean((pred-y)**2) + reg\n",
    "                    res = f'start | loss: {loss}'\n",
    "                    print_flag=True\n",
    "\n",
    "                if iter%verbose==0:\n",
    "                    pred = np.dot(X, self.weights)\n",
    "                    loss = np.mean((pred-y)**2) + reg\n",
    "                    res = f'{iter} | loss: {loss}'\n",
    "                    print_flag=True\n",
    "                    \n",
    "                if self.metric:\n",
    "                    pred = np.dot(X, self.weights)\n",
    "                    metric_val = self.metric_calc(pred, y)\n",
    "                    res += f' | {self.metric}: {metric_val}'\n",
    "                    \n",
    "                if callable(self.learning_rate):\n",
    "                    res += f' | lr: {lr}'\n",
    "\n",
    "                if print_flag:\n",
    "                    print(res)\n",
    "                    print_flag=False\n",
    "\n",
    "    \n",
    "    def metric_calc(self, pred: pd.Series, y: pd.Series):\n",
    "        if self.metric:\n",
    "            if self.metric == 'mae':\n",
    "                return np.mean(np.abs(y - pred))\n",
    "            if self.metric == 'mse':\n",
    "                return np.mean((y-pred)**2)\n",
    "            if self.metric == 'rmse':\n",
    "                return np.mean((y-pred)**2)**(1/2)\n",
    "            if self.metric == 'mape':\n",
    "                return 100*np.mean(np.abs((y-pred)/y))\n",
    "            if self.metric == 'r2':\n",
    "                return 1 - (np.sum((y-pred)**2)/(np.sum((y-np.mean(y))**2)))\n",
    "\n",
    "\n",
    "    def predict(self, X: pd.DataFrame):\n",
    "        X = X.copy()\n",
    "        X.insert(loc=0, column='x0', value=1)\n",
    "        pred = np.dot(X, self.weights)\n",
    "        return pred\n",
    "\n",
    "\n",
    "    def get_coef(self):\n",
    "        return self.weights[1:]\n",
    "    \n",
    "\n",
    "    def get_best_score(self):\n",
    "        return self.metric_calc(self.predict(X), y)"
   ]
  },
  {
   "cell_type": "code",
   "execution_count": 6,
   "metadata": {},
   "outputs": [
    {
     "name": "stdout",
     "output_type": "stream",
     "text": [
      "MyLineReg: n_iter=100, learning_rate=0.1\n"
     ]
    }
   ],
   "source": [
    "mlg = MyLineReg(metric='rmse', sgd_sample=0.1)\n",
    "print(mlg)"
   ]
  },
  {
   "cell_type": "code",
   "execution_count": 7,
   "metadata": {},
   "outputs": [
    {
     "name": "stdout",
     "output_type": "stream",
     "text": [
      "start | loss: 20621.089638778492 | rmse: 121.27867217648222\n",
      "10 | loss: 513.0795282239593 | rmse: 22.65125886620784\n",
      "20 | loss: 229.76421726629312 | rmse: 15.157975368310014\n",
      "30 | loss: 226.15290691614268 | rmse: 15.038381126841502\n",
      "40 | loss: 227.0865849200188 | rmse: 15.069392320860812\n",
      "50 | loss: 227.15154947470484 | rmse: 15.071547680139052\n",
      "60 | loss: 228.22525872980785 | rmse: 15.107126091014393\n",
      "70 | loss: 227.0407967766683 | rmse: 15.067873001079757\n",
      "80 | loss: 225.42368069407732 | rmse: 15.014116047709146\n",
      "90 | loss: 226.2193427922896 | rmse: 15.040589841900802\n",
      "100 | loss: 227.49742794016169 | rmse: 15.083017865803969\n"
     ]
    }
   ],
   "source": [
    "mlg.fit(X, y, verbose=10)"
   ]
  },
  {
   "cell_type": "code",
   "execution_count": 8,
   "metadata": {},
   "outputs": [
    {
     "data": {
      "text/plain": [
       "array([43.82645862, 16.20706114,  0.28237269, 64.97095574, 47.64099559,\n",
       "       61.98602636,  0.2893713 , -0.8631572 , 59.83902748, 52.94121571,\n",
       "        0.10169989, 14.98938684, 18.15834046, 47.5221333 ])"
      ]
     },
     "execution_count": 8,
     "metadata": {},
     "output_type": "execute_result"
    }
   ],
   "source": [
    "mlg.get_coef()"
   ]
  },
  {
   "cell_type": "code",
   "execution_count": 9,
   "metadata": {},
   "outputs": [
    {
     "data": {
      "text/plain": [
       "array([ -60.43910878,  134.6256443 ,  -52.12672252,   21.26701247,\n",
       "       -128.91112088])"
      ]
     },
     "execution_count": 9,
     "metadata": {},
     "output_type": "execute_result"
    }
   ],
   "source": [
    "mlg.predict(X)[:5]"
   ]
  },
  {
   "cell_type": "code",
   "execution_count": 10,
   "metadata": {},
   "outputs": [
    {
     "data": {
      "text/plain": [
       "15.083017865803969"
      ]
     },
     "execution_count": 10,
     "metadata": {},
     "output_type": "execute_result"
    }
   ],
   "source": [
    "mlg.get_best_score()"
   ]
  }
 ],
 "metadata": {
  "kernelspec": {
   "display_name": "Python 3",
   "language": "python",
   "name": "python3"
  },
  "language_info": {
   "codemirror_mode": {
    "name": "ipython",
    "version": 3
   },
   "file_extension": ".py",
   "mimetype": "text/x-python",
   "name": "python",
   "nbconvert_exporter": "python",
   "pygments_lexer": "ipython3",
   "version": "3.12.3"
  }
 },
 "nbformat": 4,
 "nbformat_minor": 2
}
