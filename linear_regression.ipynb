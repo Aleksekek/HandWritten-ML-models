{
 "cells": [
  {
   "cell_type": "code",
   "execution_count": 1,
   "metadata": {},
   "outputs": [],
   "source": [
    "import numpy as np\n",
    "import pandas as pd\n",
    "\n",
    "import random\n",
    "\n",
    "from sklearn.datasets import make_regression"
   ]
  },
  {
   "cell_type": "code",
   "execution_count": 2,
   "metadata": {},
   "outputs": [],
   "source": [
    "X, y = make_regression(n_samples=1000, n_features=14, n_informative=10, noise=15, random_state=42)\n",
    "X = pd.DataFrame(X)\n",
    "y = pd.Series(y)\n",
    "X.columns = [f'col_{col}' for col in X.columns]"
   ]
  },
  {
   "cell_type": "code",
   "execution_count": 3,
   "metadata": {},
   "outputs": [
    {
     "data": {
      "text/html": [
       "<div>\n",
       "<style scoped>\n",
       "    .dataframe tbody tr th:only-of-type {\n",
       "        vertical-align: middle;\n",
       "    }\n",
       "\n",
       "    .dataframe tbody tr th {\n",
       "        vertical-align: top;\n",
       "    }\n",
       "\n",
       "    .dataframe thead th {\n",
       "        text-align: right;\n",
       "    }\n",
       "</style>\n",
       "<table border=\"1\" class=\"dataframe\">\n",
       "  <thead>\n",
       "    <tr style=\"text-align: right;\">\n",
       "      <th></th>\n",
       "      <th>col_0</th>\n",
       "      <th>col_1</th>\n",
       "      <th>col_2</th>\n",
       "      <th>col_3</th>\n",
       "      <th>col_4</th>\n",
       "      <th>col_5</th>\n",
       "      <th>col_6</th>\n",
       "      <th>col_7</th>\n",
       "      <th>col_8</th>\n",
       "      <th>col_9</th>\n",
       "      <th>col_10</th>\n",
       "      <th>col_11</th>\n",
       "      <th>col_12</th>\n",
       "      <th>col_13</th>\n",
       "    </tr>\n",
       "  </thead>\n",
       "  <tbody>\n",
       "    <tr>\n",
       "      <th>0</th>\n",
       "      <td>1.191261</td>\n",
       "      <td>-0.308960</td>\n",
       "      <td>0.675137</td>\n",
       "      <td>-1.460501</td>\n",
       "      <td>0.053059</td>\n",
       "      <td>-1.886129</td>\n",
       "      <td>2.710794</td>\n",
       "      <td>-1.716033</td>\n",
       "      <td>0.865290</td>\n",
       "      <td>0.138078</td>\n",
       "      <td>-0.063745</td>\n",
       "      <td>-2.104583</td>\n",
       "      <td>-0.476876</td>\n",
       "      <td>1.677116</td>\n",
       "    </tr>\n",
       "    <tr>\n",
       "      <th>1</th>\n",
       "      <td>1.071476</td>\n",
       "      <td>-1.424766</td>\n",
       "      <td>-1.109750</td>\n",
       "      <td>-0.457677</td>\n",
       "      <td>0.399997</td>\n",
       "      <td>1.587401</td>\n",
       "      <td>-1.547570</td>\n",
       "      <td>0.323247</td>\n",
       "      <td>0.165859</td>\n",
       "      <td>-0.302097</td>\n",
       "      <td>0.203944</td>\n",
       "      <td>-0.212452</td>\n",
       "      <td>0.836991</td>\n",
       "      <td>0.368498</td>\n",
       "    </tr>\n",
       "    <tr>\n",
       "      <th>2</th>\n",
       "      <td>-0.045929</td>\n",
       "      <td>1.868603</td>\n",
       "      <td>-0.016568</td>\n",
       "      <td>-0.484258</td>\n",
       "      <td>1.089905</td>\n",
       "      <td>-1.147160</td>\n",
       "      <td>0.590744</td>\n",
       "      <td>0.683325</td>\n",
       "      <td>-0.571184</td>\n",
       "      <td>-0.802199</td>\n",
       "      <td>-0.220114</td>\n",
       "      <td>0.034808</td>\n",
       "      <td>0.043829</td>\n",
       "      <td>0.955803</td>\n",
       "    </tr>\n",
       "    <tr>\n",
       "      <th>3</th>\n",
       "      <td>-1.487154</td>\n",
       "      <td>2.220322</td>\n",
       "      <td>0.718332</td>\n",
       "      <td>1.682888</td>\n",
       "      <td>-0.420986</td>\n",
       "      <td>-0.054746</td>\n",
       "      <td>1.900832</td>\n",
       "      <td>-0.101198</td>\n",
       "      <td>0.090042</td>\n",
       "      <td>-0.202924</td>\n",
       "      <td>0.340865</td>\n",
       "      <td>0.606237</td>\n",
       "      <td>-0.037008</td>\n",
       "      <td>-0.841048</td>\n",
       "    </tr>\n",
       "    <tr>\n",
       "      <th>4</th>\n",
       "      <td>0.344054</td>\n",
       "      <td>0.657763</td>\n",
       "      <td>0.348342</td>\n",
       "      <td>-0.417430</td>\n",
       "      <td>-0.589112</td>\n",
       "      <td>1.057814</td>\n",
       "      <td>-0.487705</td>\n",
       "      <td>-0.897830</td>\n",
       "      <td>-0.935596</td>\n",
       "      <td>-1.186993</td>\n",
       "      <td>1.074333</td>\n",
       "      <td>-0.069532</td>\n",
       "      <td>-0.177918</td>\n",
       "      <td>-0.912811</td>\n",
       "    </tr>\n",
       "  </tbody>\n",
       "</table>\n",
       "</div>"
      ],
      "text/plain": [
       "      col_0     col_1     col_2     col_3     col_4     col_5     col_6  \\\n",
       "0  1.191261 -0.308960  0.675137 -1.460501  0.053059 -1.886129  2.710794   \n",
       "1  1.071476 -1.424766 -1.109750 -0.457677  0.399997  1.587401 -1.547570   \n",
       "2 -0.045929  1.868603 -0.016568 -0.484258  1.089905 -1.147160  0.590744   \n",
       "3 -1.487154  2.220322  0.718332  1.682888 -0.420986 -0.054746  1.900832   \n",
       "4  0.344054  0.657763  0.348342 -0.417430 -0.589112  1.057814 -0.487705   \n",
       "\n",
       "      col_7     col_8     col_9    col_10    col_11    col_12    col_13  \n",
       "0 -1.716033  0.865290  0.138078 -0.063745 -2.104583 -0.476876  1.677116  \n",
       "1  0.323247  0.165859 -0.302097  0.203944 -0.212452  0.836991  0.368498  \n",
       "2  0.683325 -0.571184 -0.802199 -0.220114  0.034808  0.043829  0.955803  \n",
       "3 -0.101198  0.090042 -0.202924  0.340865  0.606237 -0.037008 -0.841048  \n",
       "4 -0.897830 -0.935596 -1.186993  1.074333 -0.069532 -0.177918 -0.912811  "
      ]
     },
     "metadata": {},
     "output_type": "display_data"
    },
    {
     "name": "stdout",
     "output_type": "stream",
     "text": [
      "(1000, 14)\n"
     ]
    }
   ],
   "source": [
    "display(X.head())\n",
    "print(X.shape)"
   ]
  },
  {
   "cell_type": "code",
   "execution_count": 4,
   "metadata": {},
   "outputs": [
    {
     "data": {
      "text/plain": [
       "0    -48.005272\n",
       "1    145.801614\n",
       "2    -49.114775\n",
       "3     24.902238\n",
       "4   -152.611643\n",
       "dtype: float64"
      ]
     },
     "metadata": {},
     "output_type": "display_data"
    },
    {
     "name": "stdout",
     "output_type": "stream",
     "text": [
      "(1000,)\n"
     ]
    }
   ],
   "source": [
    "display(y.head())\n",
    "print(y.shape)"
   ]
  },
  {
   "cell_type": "code",
   "execution_count": 105,
   "metadata": {},
   "outputs": [],
   "source": [
    "class MyLineReg():\n",
    "\n",
    "    def __init__(self, n_iter = 100, learning_rate = 0.1, metric = None):\n",
    "        self.n_iter = n_iter\n",
    "        self.learning_rate = learning_rate\n",
    "        self.metric = metric\n",
    "        self.weights = None\n",
    "\n",
    "\n",
    "    def __repr__(self):\n",
    "        return f'MyLineReg: n_iter={self.n_iter}, learning_rate={self.learning_rate}'\n",
    "\n",
    "\n",
    "    def fit(self, X: pd.DataFrame, y: pd.Series, verbose: int = False):\n",
    "        X = X.copy()\n",
    "        X.insert(loc=0, column='x0', value=1)\n",
    "        self.weights = np.ones(X.shape[1])\n",
    "\n",
    "        for iter in range(1, self.n_iter+1):\n",
    "            pred = np.dot(X, self.weights)\n",
    "            grad = 2*(np.dot((pred-y), X)/len(y))\n",
    "            self.weights -= grad*self.learning_rate\n",
    "\n",
    "            if verbose:\n",
    "\n",
    "                if iter==1:\n",
    "                    loss = np.mean((pred-y)**2)\n",
    "                    res = f'start | loss: {loss}'\n",
    "                    print_flag=True\n",
    "\n",
    "                if iter%verbose==0:\n",
    "                    pred = np.dot(X, self.weights)\n",
    "                    loss = np.mean((pred-y)**2)\n",
    "                    res = f'{iter} | loss: {loss}'\n",
    "                    print_flag=True\n",
    "                    \n",
    "                if self.metric:\n",
    "                    metric_val = self.metric_calc(pred, y)\n",
    "                    res += f' | {self.metric}: {metric_val}'\n",
    "                    \n",
    "                if print_flag:\n",
    "                    print(res)\n",
    "                    print_flag=False\n",
    "\n",
    "    \n",
    "    def metric_calc(self, pred: pd.Series, y: pd.Series):\n",
    "        if self.metric:\n",
    "            if self.metric == 'mae':\n",
    "                return np.mean(np.abs(y - pred))\n",
    "            if self.metric == 'mse':\n",
    "                return np.mean((y-pred)**2)\n",
    "            if self.metric == 'rmse':\n",
    "                return np.mean((y-pred)**2)**(1/2)\n",
    "            if self.metric == 'mape':\n",
    "                return 100*np.mean(np.abs((y-pred)/y))\n",
    "            if self.metric == 'r2':\n",
    "                return 1 - (np.sum((y-pred)**2)/(np.sum((y-np.mean(y))**2)))\n",
    "\n",
    "\n",
    "    def predict(self, X: pd.DataFrame):\n",
    "        X = X.copy()\n",
    "        X.insert(loc=0, column='x0', value=1)\n",
    "        pred = np.dot(X, self.weights)\n",
    "        return pred\n",
    "\n",
    "\n",
    "    def get_coef(self):\n",
    "        return self.weights[1:]\n",
    "    \n",
    "\n",
    "    def get_best_score(self):\n",
    "        return self.metric_calc(self.predict(X), y)"
   ]
  },
  {
   "cell_type": "code",
   "execution_count": 106,
   "metadata": {},
   "outputs": [
    {
     "name": "stdout",
     "output_type": "stream",
     "text": [
      "MyLineReg: n_iter=100, learning_rate=0.1\n"
     ]
    }
   ],
   "source": [
    "mlg = MyLineReg(metric='mape')\n",
    "print(mlg)"
   ]
  },
  {
   "cell_type": "code",
   "execution_count": 107,
   "metadata": {},
   "outputs": [
    {
     "name": "stdout",
     "output_type": "stream",
     "text": [
      "start | loss: 20621.089638778492 | mape: 101.14798658984488\n",
      "10 | loss: 510.87011170243284 | mape: 66.20238338348034\n",
      "20 | loss: 228.98517225684174 | mape: 65.54462635969739\n",
      "30 | loss: 223.78598384435142 | mape: 65.98506101799835\n",
      "40 | loss: 223.66811333728646 | mape: 66.03351840331861\n",
      "50 | loss: 223.6650536997468 | mape: 66.03644241795023\n",
      "60 | loss: 223.6649675479 | mape: 66.03633092136458\n",
      "70 | loss: 223.66496500640952 | mape: 66.03624592963196\n",
      "80 | loss: 223.66496492945188 | mape: 66.03622450939804\n",
      "90 | loss: 223.6649649270873 | mape: 66.03622013492243\n",
      "100 | loss: 223.66496492701407 | mape: 66.0362193137032\n"
     ]
    }
   ],
   "source": [
    "mlg.fit(X, y, 10)"
   ]
  },
  {
   "cell_type": "code",
   "execution_count": 108,
   "metadata": {},
   "outputs": [
    {
     "data": {
      "text/plain": [
       "array([42.91964777, 16.59743276,  0.49967378, 65.37467671, 47.59325078,\n",
       "       61.77751235,  0.24742523, -0.10563466, 60.01750602, 53.89234067,\n",
       "       -0.47496694, 14.42781294, 17.6888767 , 47.31351483])"
      ]
     },
     "execution_count": 108,
     "metadata": {},
     "output_type": "execute_result"
    }
   ],
   "source": [
    "mlg.get_coef()"
   ]
  },
  {
   "cell_type": "code",
   "execution_count": 109,
   "metadata": {},
   "outputs": [
    {
     "data": {
      "text/plain": [
       "array([ -61.95121506,  131.6819176 ,  -52.07607356,   23.4480151 ,\n",
       "       -131.73760946])"
      ]
     },
     "execution_count": 109,
     "metadata": {},
     "output_type": "execute_result"
    }
   ],
   "source": [
    "mlg.predict(X)[:5]"
   ]
  },
  {
   "cell_type": "code",
   "execution_count": 110,
   "metadata": {},
   "outputs": [
    {
     "data": {
      "text/plain": [
       "66.0362193137032"
      ]
     },
     "execution_count": 110,
     "metadata": {},
     "output_type": "execute_result"
    }
   ],
   "source": [
    "mlg.get_best_score()"
   ]
  }
 ],
 "metadata": {
  "kernelspec": {
   "display_name": "Python 3",
   "language": "python",
   "name": "python3"
  },
  "language_info": {
   "codemirror_mode": {
    "name": "ipython",
    "version": 3
   },
   "file_extension": ".py",
   "mimetype": "text/x-python",
   "name": "python",
   "nbconvert_exporter": "python",
   "pygments_lexer": "ipython3",
   "version": "3.12.3"
  }
 },
 "nbformat": 4,
 "nbformat_minor": 2
}
