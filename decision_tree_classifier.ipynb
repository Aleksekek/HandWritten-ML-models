{
 "cells": [
  {
   "cell_type": "code",
   "execution_count": 1,
   "metadata": {},
   "outputs": [],
   "source": [
    "import numpy as np\n",
    "import pandas as pd\n",
    "\n",
    "import random\n",
    "\n",
    "from sklearn.datasets import make_classification"
   ]
  },
  {
   "cell_type": "code",
   "execution_count": 2,
   "metadata": {},
   "outputs": [],
   "source": [
    "X, y = make_classification(n_samples=50, n_features=20, n_informative=2, random_state=42)\n",
    "X = pd.DataFrame(X)\n",
    "y = pd.Series(y)\n",
    "X.columns = [f'col_{col}' for col in X.columns]"
   ]
  },
  {
   "cell_type": "code",
   "execution_count": 3,
   "metadata": {},
   "outputs": [
    {
     "data": {
      "text/html": [
       "<div>\n",
       "<style scoped>\n",
       "    .dataframe tbody tr th:only-of-type {\n",
       "        vertical-align: middle;\n",
       "    }\n",
       "\n",
       "    .dataframe tbody tr th {\n",
       "        vertical-align: top;\n",
       "    }\n",
       "\n",
       "    .dataframe thead th {\n",
       "        text-align: right;\n",
       "    }\n",
       "</style>\n",
       "<table border=\"1\" class=\"dataframe\">\n",
       "  <thead>\n",
       "    <tr style=\"text-align: right;\">\n",
       "      <th></th>\n",
       "      <th>col_0</th>\n",
       "      <th>col_1</th>\n",
       "      <th>col_2</th>\n",
       "      <th>col_3</th>\n",
       "      <th>col_4</th>\n",
       "      <th>col_5</th>\n",
       "      <th>col_6</th>\n",
       "      <th>col_7</th>\n",
       "      <th>col_8</th>\n",
       "      <th>col_9</th>\n",
       "      <th>col_10</th>\n",
       "      <th>col_11</th>\n",
       "      <th>col_12</th>\n",
       "      <th>col_13</th>\n",
       "      <th>col_14</th>\n",
       "      <th>col_15</th>\n",
       "      <th>col_16</th>\n",
       "      <th>col_17</th>\n",
       "      <th>col_18</th>\n",
       "      <th>col_19</th>\n",
       "    </tr>\n",
       "  </thead>\n",
       "  <tbody>\n",
       "    <tr>\n",
       "      <th>0</th>\n",
       "      <td>-0.926930</td>\n",
       "      <td>-0.036661</td>\n",
       "      <td>0.017429</td>\n",
       "      <td>0.443819</td>\n",
       "      <td>-1.247783</td>\n",
       "      <td>-1.024388</td>\n",
       "      <td>0.010233</td>\n",
       "      <td>0.081909</td>\n",
       "      <td>-0.059525</td>\n",
       "      <td>1.163164</td>\n",
       "      <td>1.441273</td>\n",
       "      <td>0.223717</td>\n",
       "      <td>-3.241267</td>\n",
       "      <td>1.632411</td>\n",
       "      <td>-0.252568</td>\n",
       "      <td>0.130741</td>\n",
       "      <td>0.774634</td>\n",
       "      <td>-0.440044</td>\n",
       "      <td>-1.430141</td>\n",
       "      <td>-1.435862</td>\n",
       "    </tr>\n",
       "    <tr>\n",
       "      <th>1</th>\n",
       "      <td>-0.450065</td>\n",
       "      <td>0.130447</td>\n",
       "      <td>-0.062511</td>\n",
       "      <td>0.005244</td>\n",
       "      <td>0.514439</td>\n",
       "      <td>-0.142379</td>\n",
       "      <td>0.115675</td>\n",
       "      <td>-0.311741</td>\n",
       "      <td>0.622850</td>\n",
       "      <td>1.551152</td>\n",
       "      <td>0.332314</td>\n",
       "      <td>-0.888631</td>\n",
       "      <td>-1.067620</td>\n",
       "      <td>0.711615</td>\n",
       "      <td>0.120296</td>\n",
       "      <td>1.277677</td>\n",
       "      <td>0.046981</td>\n",
       "      <td>-1.534114</td>\n",
       "      <td>-1.124642</td>\n",
       "      <td>-0.748487</td>\n",
       "    </tr>\n",
       "    <tr>\n",
       "      <th>2</th>\n",
       "      <td>0.500917</td>\n",
       "      <td>0.729048</td>\n",
       "      <td>-0.326652</td>\n",
       "      <td>-0.576771</td>\n",
       "      <td>0.543360</td>\n",
       "      <td>0.751387</td>\n",
       "      <td>-0.904317</td>\n",
       "      <td>-0.813379</td>\n",
       "      <td>-0.977555</td>\n",
       "      <td>0.259723</td>\n",
       "      <td>-1.627542</td>\n",
       "      <td>-0.727392</td>\n",
       "      <td>0.099332</td>\n",
       "      <td>-0.662624</td>\n",
       "      <td>-1.669405</td>\n",
       "      <td>-1.804882</td>\n",
       "      <td>0.755391</td>\n",
       "      <td>-0.763259</td>\n",
       "      <td>0.570599</td>\n",
       "      <td>0.048085</td>\n",
       "    </tr>\n",
       "    <tr>\n",
       "      <th>3</th>\n",
       "      <td>-0.034712</td>\n",
       "      <td>-1.231162</td>\n",
       "      <td>0.539810</td>\n",
       "      <td>-0.192361</td>\n",
       "      <td>-0.909387</td>\n",
       "      <td>0.751933</td>\n",
       "      <td>-0.503476</td>\n",
       "      <td>0.890332</td>\n",
       "      <td>-1.168678</td>\n",
       "      <td>0.099651</td>\n",
       "      <td>-0.990536</td>\n",
       "      <td>-0.976928</td>\n",
       "      <td>1.142823</td>\n",
       "      <td>1.402794</td>\n",
       "      <td>0.791032</td>\n",
       "      <td>2.190456</td>\n",
       "      <td>0.301547</td>\n",
       "      <td>0.586857</td>\n",
       "      <td>-1.401851</td>\n",
       "      <td>-0.566298</td>\n",
       "    </tr>\n",
       "    <tr>\n",
       "      <th>4</th>\n",
       "      <td>-0.637387</td>\n",
       "      <td>1.583077</td>\n",
       "      <td>-0.694705</td>\n",
       "      <td>-0.623141</td>\n",
       "      <td>0.471416</td>\n",
       "      <td>-0.570746</td>\n",
       "      <td>-0.387702</td>\n",
       "      <td>-1.169215</td>\n",
       "      <td>1.189017</td>\n",
       "      <td>-0.612789</td>\n",
       "      <td>1.547505</td>\n",
       "      <td>1.144863</td>\n",
       "      <td>1.420504</td>\n",
       "      <td>-0.552223</td>\n",
       "      <td>-0.832356</td>\n",
       "      <td>-1.515744</td>\n",
       "      <td>-0.555477</td>\n",
       "      <td>0.202923</td>\n",
       "      <td>0.632932</td>\n",
       "      <td>1.795878</td>\n",
       "    </tr>\n",
       "  </tbody>\n",
       "</table>\n",
       "</div>"
      ],
      "text/plain": [
       "      col_0     col_1     col_2     col_3     col_4     col_5     col_6  \\\n",
       "0 -0.926930 -0.036661  0.017429  0.443819 -1.247783 -1.024388  0.010233   \n",
       "1 -0.450065  0.130447 -0.062511  0.005244  0.514439 -0.142379  0.115675   \n",
       "2  0.500917  0.729048 -0.326652 -0.576771  0.543360  0.751387 -0.904317   \n",
       "3 -0.034712 -1.231162  0.539810 -0.192361 -0.909387  0.751933 -0.503476   \n",
       "4 -0.637387  1.583077 -0.694705 -0.623141  0.471416 -0.570746 -0.387702   \n",
       "\n",
       "      col_7     col_8     col_9    col_10    col_11    col_12    col_13  \\\n",
       "0  0.081909 -0.059525  1.163164  1.441273  0.223717 -3.241267  1.632411   \n",
       "1 -0.311741  0.622850  1.551152  0.332314 -0.888631 -1.067620  0.711615   \n",
       "2 -0.813379 -0.977555  0.259723 -1.627542 -0.727392  0.099332 -0.662624   \n",
       "3  0.890332 -1.168678  0.099651 -0.990536 -0.976928  1.142823  1.402794   \n",
       "4 -1.169215  1.189017 -0.612789  1.547505  1.144863  1.420504 -0.552223   \n",
       "\n",
       "     col_14    col_15    col_16    col_17    col_18    col_19  \n",
       "0 -0.252568  0.130741  0.774634 -0.440044 -1.430141 -1.435862  \n",
       "1  0.120296  1.277677  0.046981 -1.534114 -1.124642 -0.748487  \n",
       "2 -1.669405 -1.804882  0.755391 -0.763259  0.570599  0.048085  \n",
       "3  0.791032  2.190456  0.301547  0.586857 -1.401851 -0.566298  \n",
       "4 -0.832356 -1.515744 -0.555477  0.202923  0.632932  1.795878  "
      ]
     },
     "metadata": {},
     "output_type": "display_data"
    },
    {
     "name": "stdout",
     "output_type": "stream",
     "text": [
      "(50, 20)\n"
     ]
    }
   ],
   "source": [
    "display(X.head())\n",
    "print(X.shape)"
   ]
  },
  {
   "cell_type": "code",
   "execution_count": 4,
   "metadata": {},
   "outputs": [
    {
     "data": {
      "text/plain": [
       "0    0\n",
       "1    1\n",
       "2    1\n",
       "3    0\n",
       "4    1\n",
       "dtype: int32"
      ]
     },
     "metadata": {},
     "output_type": "display_data"
    },
    {
     "name": "stdout",
     "output_type": "stream",
     "text": [
      "(50,)\n"
     ]
    }
   ],
   "source": [
    "display(y.head())\n",
    "print(y.shape)"
   ]
  },
  {
   "cell_type": "code",
   "execution_count": 5,
   "metadata": {},
   "outputs": [],
   "source": [
    "class MyTreeClf():\n",
    "\n",
    "    def __init__(self, max_depth = 5, min_samples_split = 2, max_leafs = 20):\n",
    "        self.max_depth = max_depth\n",
    "        self.min_samples_split = min_samples_split\n",
    "        self.max_leafs = max_leafs\n",
    "\n",
    "\n",
    "    def __repr__(self):\n",
    "        return f'MyTreeClf class: max_depth={self.max_depth}, min_samples_split={self.min_samples_split}, max_leafs={self.max_leafs}'"
   ]
  },
  {
   "cell_type": "code",
   "execution_count": 6,
   "metadata": {},
   "outputs": [
    {
     "name": "stdout",
     "output_type": "stream",
     "text": [
      "MyTreeClf class: max_depth=5, min_samples_split=2, max_leafs=20\n"
     ]
    }
   ],
   "source": [
    "tree = MyTreeClf()\n",
    "print(tree)"
   ]
  },
  {
   "cell_type": "code",
   "execution_count": 7,
   "metadata": {},
   "outputs": [],
   "source": [
    "def entropy(y):\n",
    "    return -np.sum([(i/len(y))*np.log2(i/len(y)) if i>0 else 0 for i in y.value_counts(sort=False)])\n",
    "\n",
    "\n",
    "def get_best_split(X, y):\n",
    "    X, y = X.copy(), y.copy()\n",
    "    S0 = entropy(y)\n",
    "    max_ig = 0\n",
    "    for col in X:\n",
    "        values = sorted(X[col].unique())\n",
    "        dividers = [(values[i]+values[i+1])/2 for i in range(len(values)-1)]\n",
    "        for divider in dividers:\n",
    "            split_right = y[X[col] > divider]\n",
    "            split_left = y[X[col] <= divider]\n",
    "            S_right = (len(split_right)/len(y))*entropy(split_right)\n",
    "            S_left = (len(split_left)/len(y))*entropy(split_left)\n",
    "            ig = S0 - S_right - S_left\n",
    "            if ig > max_ig:\n",
    "                col_name, split_value, max_ig = col, divider, ig\n",
    "    return col_name, split_value, max_ig"
   ]
  },
  {
   "cell_type": "code",
   "execution_count": 8,
   "metadata": {},
   "outputs": [
    {
     "data": {
      "text/plain": [
       "('col_1', 0.013747108758779714, 0.8776994414539945)"
      ]
     },
     "execution_count": 8,
     "metadata": {},
     "output_type": "execute_result"
    }
   ],
   "source": [
    "get_best_split(X, y)"
   ]
  }
 ],
 "metadata": {
  "kernelspec": {
   "display_name": "Python 3",
   "language": "python",
   "name": "python3"
  },
  "language_info": {
   "codemirror_mode": {
    "name": "ipython",
    "version": 3
   },
   "file_extension": ".py",
   "mimetype": "text/x-python",
   "name": "python",
   "nbconvert_exporter": "python",
   "pygments_lexer": "ipython3",
   "version": "3.12.3"
  }
 },
 "nbformat": 4,
 "nbformat_minor": 2
}
