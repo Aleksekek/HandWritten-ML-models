{
 "cells": [
  {
   "cell_type": "code",
   "execution_count": 1,
   "metadata": {},
   "outputs": [],
   "source": [
    "import numpy as np\n",
    "import pandas as pd\n",
    "\n",
    "import random\n",
    "\n",
    "from sklearn.datasets import make_classification"
   ]
  },
  {
   "cell_type": "code",
   "execution_count": 2,
   "metadata": {},
   "outputs": [],
   "source": [
    "#X, y = make_classification(n_samples=500, n_features=20, n_informative=2, random_state=42)\n",
    "#X = pd.DataFrame(X)\n",
    "#y = pd.Series(y)\n",
    "#X.columns = [f'col_{col}' for col in X.columns]"
   ]
  },
  {
   "cell_type": "code",
   "execution_count": 3,
   "metadata": {},
   "outputs": [],
   "source": [
    "df = pd.read_csv(r'D:\\Pythonizm\\DS_Datasets\\banknote+authentication.zip', header=None)\n",
    "df.columns = ['variance', 'skewness', 'curtosis', 'entropy', 'target']\n",
    "X, y = df.iloc[:,:4], df['target']"
   ]
  },
  {
   "cell_type": "code",
   "execution_count": 4,
   "metadata": {},
   "outputs": [
    {
     "data": {
      "text/html": [
       "<div>\n",
       "<style scoped>\n",
       "    .dataframe tbody tr th:only-of-type {\n",
       "        vertical-align: middle;\n",
       "    }\n",
       "\n",
       "    .dataframe tbody tr th {\n",
       "        vertical-align: top;\n",
       "    }\n",
       "\n",
       "    .dataframe thead th {\n",
       "        text-align: right;\n",
       "    }\n",
       "</style>\n",
       "<table border=\"1\" class=\"dataframe\">\n",
       "  <thead>\n",
       "    <tr style=\"text-align: right;\">\n",
       "      <th></th>\n",
       "      <th>variance</th>\n",
       "      <th>skewness</th>\n",
       "      <th>curtosis</th>\n",
       "      <th>entropy</th>\n",
       "    </tr>\n",
       "  </thead>\n",
       "  <tbody>\n",
       "    <tr>\n",
       "      <th>0</th>\n",
       "      <td>3.62160</td>\n",
       "      <td>8.6661</td>\n",
       "      <td>-2.8073</td>\n",
       "      <td>-0.44699</td>\n",
       "    </tr>\n",
       "    <tr>\n",
       "      <th>1</th>\n",
       "      <td>4.54590</td>\n",
       "      <td>8.1674</td>\n",
       "      <td>-2.4586</td>\n",
       "      <td>-1.46210</td>\n",
       "    </tr>\n",
       "    <tr>\n",
       "      <th>2</th>\n",
       "      <td>3.86600</td>\n",
       "      <td>-2.6383</td>\n",
       "      <td>1.9242</td>\n",
       "      <td>0.10645</td>\n",
       "    </tr>\n",
       "    <tr>\n",
       "      <th>3</th>\n",
       "      <td>3.45660</td>\n",
       "      <td>9.5228</td>\n",
       "      <td>-4.0112</td>\n",
       "      <td>-3.59440</td>\n",
       "    </tr>\n",
       "    <tr>\n",
       "      <th>4</th>\n",
       "      <td>0.32924</td>\n",
       "      <td>-4.4552</td>\n",
       "      <td>4.5718</td>\n",
       "      <td>-0.98880</td>\n",
       "    </tr>\n",
       "  </tbody>\n",
       "</table>\n",
       "</div>"
      ],
      "text/plain": [
       "   variance  skewness  curtosis  entropy\n",
       "0   3.62160    8.6661   -2.8073 -0.44699\n",
       "1   4.54590    8.1674   -2.4586 -1.46210\n",
       "2   3.86600   -2.6383    1.9242  0.10645\n",
       "3   3.45660    9.5228   -4.0112 -3.59440\n",
       "4   0.32924   -4.4552    4.5718 -0.98880"
      ]
     },
     "metadata": {},
     "output_type": "display_data"
    },
    {
     "name": "stdout",
     "output_type": "stream",
     "text": [
      "(1372, 4)\n"
     ]
    }
   ],
   "source": [
    "display(X.head())\n",
    "print(X.shape)"
   ]
  },
  {
   "cell_type": "code",
   "execution_count": 5,
   "metadata": {},
   "outputs": [
    {
     "data": {
      "text/plain": [
       "0    0\n",
       "1    0\n",
       "2    0\n",
       "3    0\n",
       "4    0\n",
       "Name: target, dtype: int64"
      ]
     },
     "metadata": {},
     "output_type": "display_data"
    },
    {
     "name": "stdout",
     "output_type": "stream",
     "text": [
      "(1372,)\n"
     ]
    }
   ],
   "source": [
    "display(y.head())\n",
    "print(y.shape)"
   ]
  },
  {
   "cell_type": "code",
   "execution_count": null,
   "metadata": {},
   "outputs": [],
   "source": [
    "class MyTreeClf():\n",
    "\n",
    "    def __init__(self, max_depth = 5, min_samples_split = 2, max_leafs = 20):\n",
    "        self.max_depth = max_depth\n",
    "        self.min_samples_split = min_samples_split\n",
    "        self.max_leafs = max_leafs\n",
    "        self.leafs_cnt = 0\n",
    "        self.depth = 0\n",
    "\n",
    "\n",
    "    def __repr__(self):\n",
    "        return f'MyTreeClf class: max_depth={self.max_depth}, min_samples_split={self.min_samples_split}, max_leafs={self.max_leafs}'\n",
    "\n",
    "\n",
    "    def _entropy(self, y):\n",
    "        return -np.sum([(i/len(y))*np.log2(i/len(y)) if i>0 else 0 for i in y.value_counts(sort=False)])\n",
    "\n",
    "\n",
    "    def _get_best_split(self, X, y):\n",
    "        X, y = X.copy(), y.copy()\n",
    "        S0 = self._entropy(y)\n",
    "        max_ig = -1e15\n",
    "        for col in X:\n",
    "            values = sorted(X[col].unique())\n",
    "            dividers = [(values[i]+values[i+1])/2 for i in range(len(values)-1)]\n",
    "            for divider in dividers:\n",
    "                split_right = y[X[col] > divider]\n",
    "                split_left = y[X[col] <= divider]\n",
    "                S_right = (len(split_right)/len(y))*self._entropy(split_right)\n",
    "                S_left = (len(split_left)/len(y))*self._entropy(split_left)\n",
    "                ig = S0 - S_right - S_left\n",
    "                if ig > max_ig:\n",
    "                    col_name, split_value, max_ig = col, divider, ig\n",
    "        return col_name, split_value, max_ig\n",
    "\n",
    "\n",
    "    def _is_leaf(self, X, y):\n",
    "        if len(X) == 1:\n",
    "            return True\n",
    "        if len(X) < self.min_samples_split:\n",
    "            return True\n",
    "        if self._entropy(y) == 0:\n",
    "            return True\n",
    "        return False\n",
    "    \n",
    "\n",
    "    def _split(self, X: pd.DataFrame, y: pd.Series, data: pd.Series, side: str, depth: int, verbose: bool):\n",
    "        if not self._is_leaf(X[data], y[data]) and self.leafs_cnt < (self.max_leafs - 1) and depth < self.max_depth:\n",
    "            if verbose:\n",
    "                print(side.lower(), len(X[data]), depth+1)\n",
    "            self._splitter(X[data], y[data], verbose, depth)\n",
    "        else:\n",
    "            if verbose:\n",
    "                print(f'\\n{side} Done | size: {len(X[data])} | entrope: {self._entropy(y[data])} | depth: {depth+1} | val: {np.sum(y[data])/len(y[data])}\\n')\n",
    "                self.leaf_sum += np.sum(y[data])/len(y[data])\n",
    "            self.leafs_cnt += 1\n",
    "            self.model[depth+1][2**(depth) - self.rest[depth+1]] = sum(y[data])/len(y[data])\n",
    "            for i in range(self.max_depth - depth + 1):\n",
    "                self.rest[depth + i + 1] -= 2**i\n",
    "\n",
    "\n",
    "    def _splitter(self, X, y, verbose, depth = 0):\n",
    "        depth += 1\n",
    "        split = self._get_best_split(X, y)\n",
    "        self.model[depth][2**(depth-1) - self.rest[depth]] = list(split[:2])\n",
    "        self.rest[depth] -= 1\n",
    "        if verbose:\n",
    "            print(split)\n",
    "        left = X[split[0]] <= split[1]\n",
    "        right = X[split[0]] > split[1]\n",
    "\n",
    "        self._split(X, y, left, 'Left', depth, verbose)\n",
    "\n",
    "        self._split(X, y, right, 'Right', depth, verbose)\n",
    "\n",
    "\n",
    "    def fit(self, X: pd.DataFrame, y: pd.Series, verbose = False):\n",
    "        X, y = X.copy(), y.copy()\n",
    "        self.leafs_cnt = 0\n",
    "        self.depth = 0\n",
    "        self.model = {}\n",
    "        self.rest = {}\n",
    "        self.leaf_sum = 0\n",
    "\n",
    "        depth = 0\n",
    "        while depth < self.max_depth + 1:\n",
    "            depth += 1\n",
    "            self.model[depth] = [[0, 0] for _ in range(2**(depth-1))]\n",
    "            self.rest[depth] = 2**(depth-1)\n",
    "       \n",
    "        self._splitter(X, y, verbose)\n",
    "\n",
    "\n",
    "    def predict_proba(self, X: pd.DataFrame):\n",
    "        X = X.copy()\n",
    "        y = []\n",
    "        for row in X.iterrows():\n",
    "            index = 0\n",
    "            for depth in range(1, self.max_depth+2):\n",
    "                if type(self.model[depth][index]) == type(y):\n",
    "                    col, val = self.model[depth][index][0], self.model[depth][index][1]\n",
    "                    if row[1][col] <= val:\n",
    "                        index *= 2\n",
    "                    else:\n",
    "                        index *= 2\n",
    "                        index += 1\n",
    "                else:\n",
    "                    y.append(self.model[depth][index])\n",
    "                    break\n",
    "        return pd.Series(y)\n",
    "\n",
    "\n",
    "    def predict(self, X: pd.DataFrame):\n",
    "        X = X.copy()\n",
    "        y_proba = self.predict_proba(X)\n",
    "        y = y_proba.apply(lambda x: 1 if x > 0.5 else 0)\n",
    "        return y\n",
    "\n",
    "\n",
    "    def print_tree(self):\n",
    "        for layer in self.model:\n",
    "            print(f'{layer} - {self.model[layer]}')\n",
    "        print(self.leafs_cnt)\n",
    "        print(round(self.leaf_sum, 6))"
   ]
  },
  {
   "cell_type": "code",
   "execution_count": 7,
   "metadata": {},
   "outputs": [
    {
     "name": "stdout",
     "output_type": "stream",
     "text": [
      "MyTreeClf class: max_depth=3, min_samples_split=2, max_leafs=1\n"
     ]
    }
   ],
   "source": [
    "tree = MyTreeClf(max_depth=3, min_samples_split=2, max_leafs=1)\n",
    "print(tree)"
   ]
  },
  {
   "cell_type": "code",
   "execution_count": 8,
   "metadata": {},
   "outputs": [
    {
     "name": "stdout",
     "output_type": "stream",
     "text": [
      "('variance', 0.320165, 0.39961186274479576)\n",
      "\n",
      "Left Done | size: 657 | entrope: 0.6988212030641663 | depth: 2 | val: 0.8112633181126332\n",
      "\n",
      "\n",
      "Right Done | size: 715 | entrope: 0.49291577961610966 | depth: 2 | val: 0.1076923076923077\n",
      "\n"
     ]
    }
   ],
   "source": [
    "tree.fit(X, y, True)"
   ]
  },
  {
   "cell_type": "code",
   "execution_count": 9,
   "metadata": {},
   "outputs": [
    {
     "name": "stdout",
     "output_type": "stream",
     "text": [
      "1 - [['variance', 0.320165]]\n",
      "2 - [0.8112633181126332, 0.1076923076923077]\n",
      "3 - [[0, 0], [0, 0], [0, 0], [0, 0]]\n",
      "4 - [[0, 0], [0, 0], [0, 0], [0, 0], [0, 0], [0, 0], [0, 0], [0, 0]]\n",
      "2\n",
      "0.918956\n"
     ]
    }
   ],
   "source": [
    "tree.print_tree()"
   ]
  },
  {
   "cell_type": "code",
   "execution_count": 10,
   "metadata": {},
   "outputs": [
    {
     "data": {
      "text/plain": [
       "0       0.107692\n",
       "1       0.107692\n",
       "2       0.107692\n",
       "3       0.107692\n",
       "4       0.107692\n",
       "          ...   \n",
       "1367    0.107692\n",
       "1368    0.811263\n",
       "1369    0.811263\n",
       "1370    0.811263\n",
       "1371    0.811263\n",
       "Length: 1372, dtype: float64"
      ]
     },
     "execution_count": 10,
     "metadata": {},
     "output_type": "execute_result"
    }
   ],
   "source": [
    "tree.predict_proba(X)"
   ]
  },
  {
   "cell_type": "code",
   "execution_count": 11,
   "metadata": {},
   "outputs": [
    {
     "data": {
      "text/plain": [
       "0       0\n",
       "1       0\n",
       "2       0\n",
       "3       0\n",
       "4       0\n",
       "       ..\n",
       "1367    0\n",
       "1368    1\n",
       "1369    1\n",
       "1370    1\n",
       "1371    1\n",
       "Length: 1372, dtype: int64"
      ]
     },
     "execution_count": 11,
     "metadata": {},
     "output_type": "execute_result"
    }
   ],
   "source": [
    "tree.predict(X)"
   ]
  }
 ],
 "metadata": {
  "kernelspec": {
   "display_name": "Python 3",
   "language": "python",
   "name": "python3"
  },
  "language_info": {
   "codemirror_mode": {
    "name": "ipython",
    "version": 3
   },
   "file_extension": ".py",
   "mimetype": "text/x-python",
   "name": "python",
   "nbconvert_exporter": "python",
   "pygments_lexer": "ipython3",
   "version": "3.12.3"
  }
 },
 "nbformat": 4,
 "nbformat_minor": 2
}
